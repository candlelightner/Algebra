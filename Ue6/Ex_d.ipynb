{
 "cells": [
  {
   "cell_type": "markdown",
   "metadata": {},
   "source": [
    "Definition reich: $|G| = n: \\forall k|n: \\exists A \\leq G: |A| = k$."
   ]
  },
  {
   "cell_type": "code",
   "execution_count": 176,
   "metadata": {},
   "outputs": [],
   "source": [
    "from math import factorial, prod\n",
    "\n",
    "from itertools import chain, combinations"
   ]
  },
  {
   "cell_type": "code",
   "execution_count": 177,
   "metadata": {},
   "outputs": [],
   "source": [
    "def flatten(xss):\n",
    "    return [x for xs in xss for x in xs]"
   ]
  },
  {
   "cell_type": "markdown",
   "metadata": {},
   "source": [
    "## $S_4$ ist reich"
   ]
  },
  {
   "cell_type": "code",
   "execution_count": 178,
   "metadata": {},
   "outputs": [
    {
     "data": {
      "text/plain": [
       "{1, 2, 3, 4, 6, 8, 12, 24}"
      ]
     },
     "execution_count": 178,
     "metadata": {},
     "output_type": "execute_result"
    }
   ],
   "source": [
    "N = 4\n",
    "NUMBER_OF_ELEMENTS_IN_S_N = factorial(N)\n",
    "\n",
    "SET_OF_DIVISORS = set(flatten([list(map(prod, combinations(range(1, N +1), i))) for i in range(1, N + 1)]))\n",
    "\n",
    "SET_OF_DIVISORS"
   ]
  },
  {
   "cell_type": "markdown",
   "metadata": {},
   "source": [
    "Get a set of all permutations on a list of $n$ numbers."
   ]
  },
  {
   "cell_type": "code",
   "execution_count": 179,
   "metadata": {},
   "outputs": [],
   "source": [
    "from itertools import permutations\n",
    "\n",
    "perm_list = list(permutations(range(1, N+1)))"
   ]
  },
  {
   "cell_type": "markdown",
   "metadata": {},
   "source": [
    "Define chaining (i.e. $\\circ$) of (two) permutations."
   ]
  },
  {
   "cell_type": "code",
   "execution_count": 180,
   "metadata": {},
   "outputs": [],
   "source": [
    "from functools import reduce\n",
    "\n",
    "def chain_two_permutations(p1, p2):\n",
    "    return tuple(p1[p2[i]-1] for i in range(len(p1)))\n",
    "\n",
    "def chain_permutations(perm_list):\n",
    "    return reduce(chain_two_permutations, perm_list)"
   ]
  },
  {
   "cell_type": "code",
   "execution_count": 181,
   "metadata": {},
   "outputs": [],
   "source": [
    "from itertools import combinations_with_replacement\n",
    "\n",
    "def get_set_of_chains(perm_list):\n",
    "\n",
    "    chains = set()\n",
    "    old_len_perm_list = 0\n",
    "\n",
    "    while len(perm_list) != old_len_perm_list:\n",
    "        old_len_perm_list = len(perm_list)\n",
    "        for i in range(1, N+1):\n",
    "            combinations_list = list(combinations_with_replacement(perm_list, i))\n",
    "            for combination in combinations_list:\n",
    "                chains.add(chain_permutations(combination))\n",
    "        perm_list = list(chains)\n",
    "\n",
    "    return frozenset(chains)"
   ]
  },
  {
   "cell_type": "markdown",
   "metadata": {},
   "source": [
    "Get powerset of all permutations."
   ]
  },
  {
   "cell_type": "code",
   "execution_count": 182,
   "metadata": {},
   "outputs": [],
   "source": [
    "powerset_perm = chain.from_iterable(combinations(perm_list, r) for r in range(len(perm_list)+1))\n",
    "\n",
    "powerset_perm = list(filter(lambda x: len(x) <= NUMBER_OF_ELEMENTS_IN_S_N//2, powerset_perm))"
   ]
  },
  {
   "cell_type": "markdown",
   "metadata": {},
   "source": [
    "Iterate through all permutations."
   ]
  },
  {
   "cell_type": "code",
   "execution_count": 183,
   "metadata": {},
   "outputs": [
    {
     "name": "stdout",
     "output_type": "stream",
     "text": [
      "Number of permutations: 24\n",
      "Iteration 0\n",
      "Subgroups found: 0\n",
      "Found all divisors, printing shortly!\n",
      "Number of subgroups: 26\n",
      "Subgroups: [[(1, 2, 3, 4), (4, 3, 2, 1)], [(1, 2, 3, 4), (1, 2, 4, 3), (4, 2, 1, 3), (3, 2, 4, 1), (4, 2, 3, 1), (3, 2, 1, 4)], [(1, 2, 3, 4), (4, 2, 3, 1)], [(1, 2, 3, 4), (3, 4, 1, 2)], [(1, 2, 3, 4), (3, 2, 1, 4), (3, 1, 2, 4), (2, 1, 3, 4), (1, 3, 2, 4), (2, 3, 1, 4)], [(1, 2, 3, 4), (2, 3, 4, 1), (4, 1, 2, 3), (3, 4, 1, 2)], [(1, 2, 3, 4), (1, 2, 4, 3)], [(2, 4, 1, 3), (3, 1, 4, 2), (1, 2, 3, 4), (4, 3, 2, 1)], [(1, 3, 4, 2), (2, 3, 1, 4), (1, 2, 3, 4), (1, 2, 4, 3), (3, 1, 2, 4), (2, 4, 3, 1), (4, 3, 2, 1), (1, 4, 3, 2), (3, 2, 1, 4), (4, 1, 3, 2), (1, 4, 2, 3), (2, 3, 4, 1), (4, 2, 1, 3), (2, 4, 1, 3), (4, 3, 1, 2), (1, 3, 2, 4), (3, 4, 2, 1), (3, 2, 4, 1), (4, 1, 2, 3), (2, 1, 4, 3), (4, 2, 3, 1), (2, 1, 3, 4), (3, 1, 4, 2), (3, 4, 1, 2)], [(1, 2, 3, 4), (2, 4, 3, 1), (4, 1, 3, 2)], [(1, 2, 3, 4), (4, 3, 2, 1), (1, 3, 2, 4), (4, 2, 3, 1)], [(1, 2, 3, 4), (3, 2, 1, 4)], [(1, 2, 3, 4), (1, 4, 2, 3), (1, 3, 4, 2)], [(1, 2, 3, 4), (3, 1, 2, 4), (2, 3, 1, 4)], [(1, 2, 3, 4), (1, 3, 2, 4)], [(1, 2, 3, 4), (2, 1, 4, 3)], [(1, 4, 2, 3), (4, 2, 1, 3), (1, 3, 4, 2), (2, 3, 1, 4), (1, 2, 3, 4), (3, 1, 2, 4), (3, 2, 4, 1), (2, 1, 4, 3), (2, 4, 3, 1), (4, 3, 2, 1), (4, 1, 3, 2), (3, 4, 1, 2)], [(2, 4, 1, 3), (1, 3, 2, 4), (1, 2, 3, 4), (2, 1, 4, 3), (4, 3, 2, 1), (4, 2, 3, 1), (3, 1, 4, 2), (3, 4, 1, 2)], [(1, 2, 3, 4)], [(4, 3, 1, 2), (1, 2, 3, 4), (3, 4, 2, 1), (1, 2, 4, 3), (2, 1, 4, 3), (4, 3, 2, 1), (2, 1, 3, 4), (3, 4, 1, 2)], [(1, 2, 3, 4), (4, 2, 1, 3), (3, 2, 4, 1)], [(1, 2, 3, 4), (1, 4, 3, 2)], [(1, 2, 3, 4), (2, 1, 3, 4), (1, 2, 4, 3), (2, 1, 4, 3)], [(1, 2, 3, 4), (2, 1, 3, 4)], [(1, 2, 3, 4), (1, 4, 2, 3), (1, 2, 4, 3), (1, 3, 4, 2), (1, 4, 3, 2), (1, 3, 2, 4)], [(3, 4, 2, 1), (4, 3, 1, 2), (2, 1, 4, 3), (1, 2, 3, 4)]]\n"
     ]
    }
   ],
   "source": [
    "set_permutations = set()\n",
    "\n",
    "print(f\"Number of permutations: {len(perm_list)}\")\n",
    "\n",
    "FOUND_DIVISORS = set()\n",
    "\n",
    "for i, perm in enumerate(powerset_perm):\n",
    "    # print(perm_list)\n",
    "    if i % 100 == 0:\n",
    "        print(f\"Iteration {i}\")\n",
    "        print(f\"Subgroups found: {len(set_permutations)}\")\n",
    "\n",
    "    to_add = get_set_of_chains(perm)\n",
    "    set_permutations.add(to_add)\n",
    "    FOUND_DIVISORS.add(len(to_add))\n",
    "\n",
    "    if SET_OF_DIVISORS.issubset(FOUND_DIVISORS):\n",
    "        print(\"Found all divisors, printing shortly!\")\n",
    "        break\n",
    "\n",
    "\n",
    "set_permutations.remove(frozenset())\n",
    "print(f\"Number of subgroups: {len(set_permutations)}\")\n",
    "print(f\"Subgroups: {list(map(list, set_permutations))}\")"
   ]
  },
  {
   "cell_type": "markdown",
   "metadata": {},
   "source": [
    "## $A_4$ ist nicht reich"
   ]
  },
  {
   "cell_type": "code",
   "execution_count": 184,
   "metadata": {},
   "outputs": [],
   "source": [
    "def perm_parity(tup):\n",
    "    '''\\\n",
    "    Given a permutation of the digits 0..N in order as a list, \n",
    "    returns its parity (or sign): +1 for even parity; -1 for odd.\n",
    "\n",
    "    Credit: https://code.activestate.com/recipes/578227-generate-the-parity-or-sign-of-a-permutation/\n",
    "    '''\n",
    "    lst = list(tup)\n",
    "    parity = 1\n",
    "    for i in range(0,len(lst)-1):\n",
    "        if lst[i] != i:\n",
    "            parity *= -1\n",
    "            mn = min(range(i,len(lst)), key=lst.__getitem__)\n",
    "            lst[i],lst[mn] = lst[mn],lst[i]\n",
    "    return parity   "
   ]
  },
  {
   "cell_type": "code",
   "execution_count": 185,
   "metadata": {},
   "outputs": [
    {
     "name": "stdout",
     "output_type": "stream",
     "text": [
      "[0, 1, 2, 3] 1\n",
      "[0, 1, 3, 2] -1\n",
      "[0, 2, 1, 3] -1\n",
      "[0, 2, 3, 1] 1\n",
      "[0, 3, 1, 2] 1\n",
      "[0, 3, 2, 1] -1\n",
      "[1, 0, 2, 3] -1\n",
      "[1, 0, 3, 2] 1\n",
      "[1, 2, 0, 3] 1\n",
      "[1, 2, 3, 0] -1\n",
      "[1, 3, 0, 2] -1\n",
      "[1, 3, 2, 0] 1\n",
      "[2, 0, 1, 3] 1\n",
      "[2, 0, 3, 1] -1\n",
      "[2, 1, 0, 3] -1\n",
      "[2, 1, 3, 0] 1\n",
      "[2, 3, 0, 1] 1\n",
      "[2, 3, 1, 0] -1\n",
      "[3, 0, 1, 2] -1\n",
      "[3, 0, 2, 1] 1\n",
      "[3, 1, 0, 2] 1\n",
      "[3, 1, 2, 0] -1\n",
      "[3, 2, 0, 1] -1\n",
      "[3, 2, 1, 0] 1\n"
     ]
    }
   ],
   "source": [
    "for p in permutations(range(4)):\n",
    "        l = list(p)\n",
    "        print(l, perm_parity(l))"
   ]
  },
  {
   "cell_type": "code",
   "execution_count": 203,
   "metadata": {},
   "outputs": [
    {
     "data": {
      "text/plain": [
       "{1, 3, 4, 12}"
      ]
     },
     "execution_count": 203,
     "metadata": {},
     "output_type": "execute_result"
    }
   ],
   "source": [
    "N = 4\n",
    "NUMBER_OF_ELEMENTS_IN_A_N = factorial(N)//2\n",
    "\n",
    "SET_OF_DIVISORS = set(flatten([list(map(prod, combinations(range(3, N +1), i))) for i in range(1, N + 1)]))\n",
    "SET_OF_DIVISORS.add(1)\n",
    "\n",
    "SET_OF_DIVISORS"
   ]
  },
  {
   "cell_type": "code",
   "execution_count": 204,
   "metadata": {},
   "outputs": [
    {
     "data": {
      "text/plain": [
       "12"
      ]
     },
     "execution_count": 204,
     "metadata": {},
     "output_type": "execute_result"
    }
   ],
   "source": [
    "from itertools import permutations\n",
    "\n",
    "perm_list = list(filter(lambda x: perm_parity(x) == 1, permutations(range(N))))\n",
    "\n",
    "len(perm_list)"
   ]
  },
  {
   "cell_type": "code",
   "execution_count": 205,
   "metadata": {},
   "outputs": [
    {
     "data": {
      "text/plain": [
       "3302"
      ]
     },
     "execution_count": 205,
     "metadata": {},
     "output_type": "execute_result"
    }
   ],
   "source": [
    "powerset_perm = chain.from_iterable(combinations(perm_list, r) for r in range(len(perm_list)+1))\n",
    "\n",
    "powerset_perm = list(filter(lambda x: len(x) <= NUMBER_OF_ELEMENTS_IN_A_N//2 + 1, powerset_perm))\n",
    "\n",
    "len(powerset_perm)"
   ]
  },
  {
   "cell_type": "markdown",
   "metadata": {},
   "source": [
    "(If the following block is too slow, one might think abount the implementation by using the fact that for $n \\geq 3$ the alternating group $A_n$ is generated by 3-cycles - instead of using the powerset of all even permutations.)"
   ]
  },
  {
   "cell_type": "code",
   "execution_count": 207,
   "metadata": {},
   "outputs": [
    {
     "name": "stdout",
     "output_type": "stream",
     "text": [
      "Number of permutations: 12\n",
      "Iteration 0\n",
      "Subgroups found: 0\n",
      "Iteration 100\n",
      "Subgroups found: 21\n",
      "Iteration 200\n",
      "Subgroups found: 21\n",
      "Iteration 300\n",
      "Subgroups found: 21\n",
      "Iteration 400\n",
      "Subgroups found: 21\n",
      "Iteration 500\n",
      "Subgroups found: 21\n",
      "Iteration 600\n",
      "Subgroups found: 21\n",
      "Iteration 700\n",
      "Subgroups found: 21\n",
      "Iteration 800\n",
      "Subgroups found: 21\n",
      "Iteration 900\n",
      "Subgroups found: 21\n",
      "Iteration 1000\n",
      "Subgroups found: 21\n",
      "Iteration 1100\n",
      "Subgroups found: 21\n",
      "Iteration 1200\n",
      "Subgroups found: 21\n",
      "Iteration 1300\n",
      "Subgroups found: 21\n",
      "Iteration 1400\n",
      "Subgroups found: 21\n",
      "Iteration 1500\n",
      "Subgroups found: 21\n",
      "Iteration 1600\n",
      "Subgroups found: 21\n",
      "Iteration 1700\n",
      "Subgroups found: 21\n",
      "Iteration 1800\n",
      "Subgroups found: 21\n",
      "Iteration 1900\n",
      "Subgroups found: 21\n",
      "Iteration 2000\n",
      "Subgroups found: 21\n",
      "Iteration 2100\n",
      "Subgroups found: 21\n",
      "Iteration 2200\n",
      "Subgroups found: 21\n",
      "Iteration 2300\n",
      "Subgroups found: 21\n",
      "Iteration 2400\n",
      "Subgroups found: 21\n",
      "Iteration 2500\n",
      "Subgroups found: 21\n",
      "Iteration 2600\n",
      "Subgroups found: 21\n",
      "Iteration 2700\n",
      "Subgroups found: 21\n",
      "Iteration 2800\n",
      "Subgroups found: 21\n",
      "Iteration 2900\n",
      "Subgroups found: 21\n",
      "Iteration 3000\n",
      "Subgroups found: 21\n",
      "Iteration 3100\n",
      "Subgroups found: 21\n",
      "Iteration 3200\n",
      "Subgroups found: 21\n",
      "Iteration 3300\n",
      "Subgroups found: 21\n",
      "Number of subgroups: 20\n",
      "Subgroups: [[(1, 2, 3, 0), (1, 3, 2, 0)], [(3, 2, 1, 0), (2, 1, 3, 0), (1, 3, 2, 0), (1, 2, 3, 0), (3, 1, 2, 0), (2, 3, 1, 0)], [(2, 1, 3, 0), (3, 0, 2, 1), (0, 3, 1, 2), (3, 0, 1, 2), (1, 2, 0, 3), (2, 1, 0, 3), (1, 2, 3, 0), (0, 3, 2, 1)], [(0, 1, 3, 2), (1, 0, 3, 2), (2, 0, 3, 1), (1, 2, 3, 0), (2, 1, 3, 0), (0, 2, 3, 1)], [(3, 2, 1, 0), (1, 2, 3, 0), (1, 0, 3, 2), (3, 0, 1, 2)], [(3, 1, 0, 2), (2, 0, 1, 3), (0, 3, 2, 1), (1, 2, 3, 0)], [(1, 2, 3, 0), (1, 0, 2, 3), (1, 2, 0, 3), (1, 3, 2, 0), (1, 3, 0, 2), (1, 0, 3, 2)], [(1, 2, 3, 0), (0, 3, 2, 1), (0, 2, 3, 1), (1, 3, 2, 0)], [(2, 1, 0, 3), (1, 2, 3, 0), (0, 3, 1, 2), (3, 0, 2, 1)], [(3, 1, 0, 2), (0, 2, 3, 1), (3, 0, 1, 2), (0, 3, 2, 1), (1, 3, 2, 0), (2, 1, 0, 3), (1, 2, 3, 0), (2, 0, 1, 3)], [(3, 0, 1, 2), (0, 1, 2, 3), (1, 2, 3, 0), (2, 3, 0, 1)], [(3, 2, 1, 0), (0, 2, 1, 3), (3, 0, 2, 1), (2, 3, 0, 1), (0, 3, 1, 2), (1, 0, 3, 2), (3, 1, 2, 0), (0, 1, 2, 3), (0, 1, 3, 2), (1, 3, 2, 0), (3, 2, 0, 1), (2, 1, 0, 3), (0, 3, 2, 1), (3, 0, 1, 2), (2, 1, 3, 0), (3, 1, 0, 2), (2, 0, 3, 1), (1, 3, 0, 2), (0, 2, 3, 1), (2, 3, 1, 0), (1, 0, 2, 3), (1, 2, 0, 3), (1, 2, 3, 0), (2, 0, 1, 3)], [(3, 2, 1, 0), (2, 3, 0, 1), (1, 0, 3, 2), (0, 1, 2, 3), (1, 2, 3, 0), (2, 1, 0, 3), (3, 0, 1, 2), (0, 3, 2, 1)], [(1, 2, 3, 0), (0, 2, 3, 1)], [(3, 2, 1, 0), (1, 2, 3, 0)], [(1, 2, 3, 0), (1, 2, 0, 3)], [(1, 2, 3, 0), (2, 1, 3, 0)], [(2, 1, 0, 3), (1, 2, 3, 0), (2, 1, 3, 0), (1, 2, 0, 3)], [(1, 2, 3, 0), (1, 0, 3, 2)], [(3, 2, 1, 0), (0, 2, 1, 3), (1, 2, 0, 3), (3, 2, 0, 1), (1, 2, 3, 0), (0, 2, 3, 1)]]\n"
     ]
    }
   ],
   "source": [
    "set_permutations = set()\n",
    "\n",
    "print(f\"Number of permutations: {len(perm_list)}\")\n",
    "\n",
    "FOUND_DIVISORS = set()\n",
    "\n",
    "for i, perm in enumerate(powerset_perm):\n",
    "    # print(perm_list)\n",
    "    if i % 100 == 0:\n",
    "        print(f\"Iteration {i}\")\n",
    "        print(f\"Subgroups found: {len(set_permutations)}\")\n",
    "\n",
    "    to_add = get_set_of_chains(perm)\n",
    "    set_permutations.add(to_add)\n",
    "    FOUND_DIVISORS.add(len(to_add))\n",
    "\n",
    "    if SET_OF_DIVISORS.issubset(FOUND_DIVISORS):\n",
    "        print(\"Found all divisors, printing shortly!\")\n",
    "        break\n",
    "\n",
    "\n",
    "set_permutations.remove(frozenset())\n",
    "print(f\"Number of subgroups: {len(set_permutations)}\")\n",
    "print(f\"Subgroups: {list(map(list, set_permutations))}\")"
   ]
  },
  {
   "cell_type": "code",
   "execution_count": 208,
   "metadata": {},
   "outputs": [
    {
     "data": {
      "text/plain": [
       "{0, 2, 4, 6, 8, 24}"
      ]
     },
     "execution_count": 208,
     "metadata": {},
     "output_type": "execute_result"
    }
   ],
   "source": [
    "FOUND_DIVISORS"
   ]
  },
  {
   "cell_type": "code",
   "execution_count": 209,
   "metadata": {},
   "outputs": [
    {
     "data": {
      "text/plain": [
       "{1, 3, 12}"
      ]
     },
     "execution_count": 209,
     "metadata": {},
     "output_type": "execute_result"
    }
   ],
   "source": [
    "SET_OF_DIVISORS - FOUND_DIVISORS"
   ]
  }
 ],
 "metadata": {
  "kernelspec": {
   "display_name": "numerik",
   "language": "python",
   "name": "python3"
  },
  "language_info": {
   "codemirror_mode": {
    "name": "ipython",
    "version": 3
   },
   "file_extension": ".py",
   "mimetype": "text/x-python",
   "name": "python",
   "nbconvert_exporter": "python",
   "pygments_lexer": "ipython3",
   "version": "3.11.5"
  }
 },
 "nbformat": 4,
 "nbformat_minor": 2
}
