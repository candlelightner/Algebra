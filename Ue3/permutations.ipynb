{
 "cells": [
  {
   "cell_type": "code",
   "execution_count": 19,
   "metadata": {},
   "outputs": [],
   "source": [
    "from itertools import permutations\n",
    "import numpy as np\n",
    "import math"
   ]
  },
  {
   "cell_type": "code",
   "execution_count": 59,
   "metadata": {},
   "outputs": [
    {
     "ename": "ValueError",
     "evalue": "The truth value of an array with more than one element is ambiguous. Use a.any() or a.all()",
     "output_type": "error",
     "traceback": [
      "\u001b[1;31m---------------------------------------------------------------------------\u001b[0m",
      "\u001b[1;31mValueError\u001b[0m                                Traceback (most recent call last)",
      "Cell \u001b[1;32mIn[59], line 16\u001b[0m\n\u001b[0;32m     13\u001b[0m \u001b[38;5;66;03m# Filter away all matrices that have a row or column that is a permutation of another row or column\u001b[39;00m\n\u001b[0;32m     14\u001b[0m \u001b[38;5;66;03m# There can be at most set_size equivalence classes of permutations\u001b[39;00m\n\u001b[0;32m     15\u001b[0m \u001b[38;5;28;01mfor\u001b[39;00m perm \u001b[38;5;129;01min\u001b[39;00m valid_permutations:\n\u001b[1;32m---> 16\u001b[0m     \u001b[38;5;28;01mif\u001b[39;00m \u001b[43mperm\u001b[49m\u001b[43m[\u001b[49m\u001b[38;5;241;43m0\u001b[39;49m\u001b[43m]\u001b[49m\u001b[43m \u001b[49m\u001b[38;5;129;43;01min\u001b[39;49;00m\u001b[43m \u001b[49m\u001b[43mforbidden_rows\u001b[49m \u001b[38;5;129;01mor\u001b[39;00m perm[:, \u001b[38;5;241m0\u001b[39m] \u001b[38;5;129;01min\u001b[39;00m forbidden_rows:\n\u001b[0;32m     17\u001b[0m         \u001b[38;5;28;01mcontinue\u001b[39;00m\n\u001b[0;32m     18\u001b[0m     \u001b[38;5;28;01melse\u001b[39;00m:\n",
      "\u001b[1;31mValueError\u001b[0m: The truth value of an array with more than one element is ambiguous. Use a.any() or a.all()"
     ]
    }
   ],
   "source": [
    "set_size = 5\n",
    "idempotent_to_power = 6\n",
    "\n",
    "unit_matrix = np.eye(set_size, dtype=int)\n",
    "\n",
    "valid_permutations = list(filter(lambda perm: \n",
    "                                 np.array_equal(np.linalg.matrix_power(perm, idempotent_to_power), unit_matrix), \n",
    "                                 map(perm_to_matrix, permutations(range(set_size)))))\n",
    "\n",
    "fact_permutations = []\n",
    "forbidden_rows = []\n",
    "\n",
    "# Filter away all matrices that have a row or column that is a permutation of another row or column\n",
    "# There can be at most set_size equivalence classes of permutations\n",
    "for perm in valid_permutations:\n",
    "    if perm[0] in forbidden_rows:\n",
    "        continue\n",
    "    else:\n",
    "        fact_permutations.append(perm)\n",
    "        forbidden_rows.append(perm[0, :])\n",
    "\n",
    "print(f\"Found {len(valid_permutations)} valid permutations out of {set_size}! = {math.factorial(set_size)}\")\n",
    "print(f\"Found {len(fact_permutations)} valid permutations after filtering\")\n",
    "print(fact_permutations)"
   ]
  }
 ],
 "metadata": {
  "kernelspec": {
   "display_name": "numerik",
   "language": "python",
   "name": "python3"
  },
  "language_info": {
   "name": "python",
   "version": "3.11.5"
  }
 },
 "nbformat": 4,
 "nbformat_minor": 2
}
