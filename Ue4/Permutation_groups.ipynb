{
 "cells": [
  {
   "cell_type": "code",
   "execution_count": 42,
   "metadata": {},
   "outputs": [],
   "source": [
    "n = 3"
   ]
  },
  {
   "cell_type": "markdown",
   "metadata": {},
   "source": [
    "Get a set of all permutations on a list of $n$ numbers."
   ]
  },
  {
   "cell_type": "code",
   "execution_count": 43,
   "metadata": {},
   "outputs": [],
   "source": [
    "from itertools import permutations\n",
    "\n",
    "perm_list = list(permutations(range(1, n+1)))"
   ]
  },
  {
   "cell_type": "markdown",
   "metadata": {},
   "source": [
    "Define chaining (i.e. $\\circ$) of (two) permutations."
   ]
  },
  {
   "cell_type": "code",
   "execution_count": 44,
   "metadata": {},
   "outputs": [],
   "source": [
    "from functools import reduce\n",
    "\n",
    "def chain_two_permutations(p1, p2):\n",
    "    return tuple(p1[p2[i]-1] for i in range(len(p1)))\n",
    "\n",
    "def chain_permutations(perm_list):\n",
    "    return reduce(chain_two_permutations, perm_list)"
   ]
  },
  {
   "cell_type": "code",
   "execution_count": 45,
   "metadata": {},
   "outputs": [],
   "source": [
    "from itertools import combinations_with_replacement\n",
    "\n",
    "def get_set_of_chains(perm_list):\n",
    "\n",
    "    chains = set()\n",
    "    old_len_perm_list = 0\n",
    "\n",
    "    while len(perm_list) != old_len_perm_list:\n",
    "        old_len_perm_list = len(perm_list)\n",
    "        for i in range(1, n+1):\n",
    "            combinations_list = list(combinations_with_replacement(perm_list, i))\n",
    "            for combination in combinations_list:\n",
    "                chains.add(chain_permutations(combination))\n",
    "        perm_list = list(chains)\n",
    "\n",
    "    return frozenset(chains)"
   ]
  },
  {
   "cell_type": "markdown",
   "metadata": {},
   "source": [
    "Get powerset of all permutations."
   ]
  },
  {
   "cell_type": "code",
   "execution_count": 46,
   "metadata": {},
   "outputs": [],
   "source": [
    "from itertools import chain, combinations\n",
    "\n",
    "powerset_perm = list(chain.from_iterable(combinations(perm_list, r) for r in range(len(perm_list)+1)))"
   ]
  },
  {
   "cell_type": "markdown",
   "metadata": {},
   "source": [
    "Iterate through all permutations."
   ]
  },
  {
   "cell_type": "code",
   "execution_count": 47,
   "metadata": {},
   "outputs": [
    {
     "name": "stdout",
     "output_type": "stream",
     "text": [
      "6\n"
     ]
    },
    {
     "data": {
      "text/plain": [
       "{frozenset({(1, 2, 3)}),\n",
       " frozenset({(1, 2, 3), (2, 1, 3)}),\n",
       " frozenset({(1, 2, 3), (3, 2, 1)}),\n",
       " frozenset({(1, 2, 3), (2, 3, 1), (3, 1, 2)}),\n",
       " frozenset({(1, 2, 3), (1, 3, 2)}),\n",
       " frozenset({(1, 2, 3), (1, 3, 2), (2, 1, 3), (2, 3, 1), (3, 1, 2), (3, 2, 1)})}"
      ]
     },
     "execution_count": 47,
     "metadata": {},
     "output_type": "execute_result"
    }
   ],
   "source": [
    "set_permutations = set()\n",
    "\n",
    "for perm in powerset_perm:\n",
    "    #print(perm_list)\n",
    "    set_permutations.add(get_set_of_chains(perm))\n",
    "\n",
    "set_permutations.remove(frozenset())\n",
    "print(len(set_permutations))\n",
    "set_permutations"
   ]
  },
  {
   "cell_type": "code",
   "execution_count": 48,
   "metadata": {},
   "outputs": [
    {
     "data": {
      "text/plain": [
       "(3, 2, 1)"
      ]
     },
     "execution_count": 48,
     "metadata": {},
     "output_type": "execute_result"
    }
   ],
   "source": [
    "chain_two_permutations((2, 1, 3), (3, 1, 2))"
   ]
  },
  {
   "cell_type": "markdown",
   "metadata": {},
   "source": [
    "Check for normal subgroups by verifying that $\\forall \\sigma \\in S_n: \\sigma \\circ N = N \\circ \\sigma$."
   ]
  },
  {
   "cell_type": "code",
   "execution_count": 49,
   "metadata": {},
   "outputs": [
    {
     "name": "stdout",
     "output_type": "stream",
     "text": [
      "3\n"
     ]
    },
    {
     "data": {
      "text/plain": [
       "{frozenset({(1, 2, 3)}),\n",
       " frozenset({(1, 2, 3), (2, 3, 1), (3, 1, 2)}),\n",
       " frozenset({(1, 2, 3), (1, 3, 2), (2, 1, 3), (2, 3, 1), (3, 1, 2), (3, 2, 1)})}"
      ]
     },
     "execution_count": 49,
     "metadata": {},
     "output_type": "execute_result"
    }
   ],
   "source": [
    "normal_subgroups = set()\n",
    "\n",
    "for N in set_permutations:\n",
    "    normal = True\n",
    "    for sigma in perm_list:\n",
    "        left_set = set()\n",
    "        right_set = set()\n",
    "\n",
    "        for perm in N:\n",
    "            left_set.add(chain_two_permutations(sigma, perm))\n",
    "            right_set.add(chain_two_permutations(perm, sigma))\n",
    "\n",
    "        if left_set != right_set:\n",
    "            normal = False\n",
    "            break\n",
    "\n",
    "    if normal:\n",
    "        normal_subgroups.add(N)\n",
    "\n",
    "print(len(normal_subgroups))\n",
    "normal_subgroups"
   ]
  }
 ],
 "metadata": {
  "kernelspec": {
   "display_name": "numerik",
   "language": "python",
   "name": "python3"
  },
  "language_info": {
   "codemirror_mode": {
    "name": "ipython",
    "version": 3
   },
   "file_extension": ".py",
   "mimetype": "text/x-python",
   "name": "python",
   "nbconvert_exporter": "python",
   "pygments_lexer": "ipython3",
   "version": "3.11.5"
  }
 },
 "nbformat": 4,
 "nbformat_minor": 2
}
